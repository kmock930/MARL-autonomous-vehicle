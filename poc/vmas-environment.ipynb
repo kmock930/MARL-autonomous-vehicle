{
 "cells": [
  {
   "cell_type": "markdown",
   "metadata": {},
   "source": [
    "# VMAS Environment Proof-of-Concept"
   ]
  },
  {
   "cell_type": "code",
   "execution_count": null,
   "metadata": {},
   "outputs": [],
   "source": [
    "import vmas\n",
    "import numpy as np"
   ]
  },
  {
   "cell_type": "markdown",
   "metadata": {},
   "source": [
    "## Start a Virtual Display Interface"
   ]
  },
  {
   "cell_type": "code",
   "execution_count": null,
   "metadata": {},
   "outputs": [],
   "source": [
    "import cv2\n",
    "import numpy as np\n",
    "\n",
    "# Create a sample frame (replace this with your actual frame)\n",
    "frame = np.random.randint(0, 255, (500, 500, 3), dtype=np.uint8)\n",
    "\n",
    "# Display the frame in a new window\n",
    "cv2.imshow(\"Simulation\", frame)\n",
    "cv2.waitKey(0)  # Wait for a key press before closing\n",
    "cv2.destroyAllWindows()"
   ]
  },
  {
   "cell_type": "markdown",
   "metadata": {},
   "source": [
    "## Initializing the Environment"
   ]
  },
  {
   "cell_type": "code",
   "execution_count": null,
   "metadata": {},
   "outputs": [
    {
     "data": {
      "text/plain": [
       "<vmas.simulator.environment.environment.Environment at 0x1d0f601b8b0>"
      ]
     },
     "execution_count": 2,
     "metadata": {},
     "output_type": "execute_result"
    }
   ],
   "source": [
    "env = vmas.make_env(\n",
    "        scenario=\"waterfall\", # can be scenario name or BaseScenario class\n",
    "        num_envs=2,\n",
    "        device=\"cpu\", # Or \"cuda\" for GPU\n",
    "        continuous_actions=True,\n",
    "        wrapper=None,  # One of: None, \"rllib\", \"gym\", \"gymnasium\", \"gymnasium_vec\"\n",
    "        max_steps=None, # Defines the horizon. None is infinite horizon.\n",
    "        seed=None, # Seed of the environment\n",
    "        dict_spaces=False, # By default tuple spaces are used with each element in the tuple being an agent.\n",
    "        # If dict_spaces=True, the spaces will become Dict with each key being the agent's name\n",
    "        grad_enabled=False, # If grad_enabled the simulator is differentiable and gradients can flow from output to input\n",
    "        terminated_truncated=False, # If terminated_truncated the simulator will return separate `terminated` and `truncated` flags in the `done()`, `step()`, and `get_from_scenario()` functions instead of a single `done` flag\n",
    "        # **kwargs # Additional arguments you want to pass to the scenario initialization\n",
    "    )\n",
    "env"
   ]
  },
  {
   "cell_type": "markdown",
   "metadata": {},
   "source": [
    "## Print all Properties of an Agent"
   ]
  },
  {
   "cell_type": "code",
   "execution_count": null,
   "metadata": {},
   "outputs": [
    {
     "name": "stdout",
     "output_type": "stream",
     "text": [
      "{'_batch_dim': 2, '_device': device(type='cpu'), '_observers': [<vmas.simulator.joints.Joint object at 0x000001D0F6058250>], '_name': 'agent_0', '_movable': True, '_rotatable': True, '_collide': True, '_density': 25.0, '_mass': 1.0, '_max_speed': None, '_v_range': None, '_color': <Color.BLUE: (0.25, 0.25, 0.75)>, '_shape': <vmas.simulator.core.Sphere object at 0x000001D0D70CD0C0>, '_is_joint': False, '_collision_filter': <function Agent.<lambda> at 0x000001D0F603A290>, '_state': <vmas.simulator.core.AgentState object at 0x000001D0D70CEFB0>, '_drag': None, '_linear_friction': None, '_angular_friction': None, '_gravity': None, '_goal': None, '_render': None, '_obs_range': None, '_obs_noise': None, '_f_range': None, '_max_f': None, '_t_range': None, '_max_t': None, '_action_script': None, '_sensors': [], '_c_noise': 0.0, '_silent': True, '_render_action': False, '_adversary': False, '_alpha': 0.5, 'dynamics': <vmas.simulator.dynamics.holonomic.Holonomic object at 0x000001D0D70CF1C0>, 'action_size': 2, 'discrete_action_nvec': [3, 3], '_action': <vmas.simulator.core.Action object at 0x000001D0D70CC3D0>}\n",
      "\n",
      "{'_batch_dim': 2, '_device': device(type='cpu'), '_observers': [<vmas.simulator.joints.Joint object at 0x000001D0F6058250>, <vmas.simulator.joints.Joint object at 0x000001D0F6058460>], '_name': 'agent_1', '_movable': True, '_rotatable': True, '_collide': True, '_density': 25.0, '_mass': 1.0, '_max_speed': None, '_v_range': None, '_color': <Color.BLUE: (0.25, 0.25, 0.75)>, '_shape': <vmas.simulator.core.Sphere object at 0x000001D0D70CF1F0>, '_is_joint': False, '_collision_filter': <function Agent.<lambda> at 0x000001D0F603A290>, '_state': <vmas.simulator.core.AgentState object at 0x000001D0D70CD0F0>, '_drag': None, '_linear_friction': None, '_angular_friction': None, '_gravity': None, '_goal': None, '_render': None, '_obs_range': None, '_obs_noise': None, '_f_range': None, '_max_f': None, '_t_range': None, '_max_t': None, '_action_script': None, '_sensors': [], '_c_noise': 0.0, '_silent': True, '_render_action': False, '_adversary': False, '_alpha': 0.5, 'dynamics': <vmas.simulator.dynamics.holonomic.Holonomic object at 0x000001D0D70CF040>, 'action_size': 2, 'discrete_action_nvec': [3, 3], '_action': <vmas.simulator.core.Action object at 0x000001D0D70CD240>}\n",
      "\n",
      "{'_batch_dim': 2, '_device': device(type='cpu'), '_observers': [<vmas.simulator.joints.Joint object at 0x000001D0F6058460>, <vmas.simulator.joints.Joint object at 0x000001D0F60585B0>], '_name': 'agent_2', '_movable': True, '_rotatable': True, '_collide': True, '_density': 25.0, '_mass': 1.0, '_max_speed': None, '_v_range': None, '_color': <Color.BLUE: (0.25, 0.25, 0.75)>, '_shape': <vmas.simulator.core.Sphere object at 0x000001D0D70CE4D0>, '_is_joint': False, '_collision_filter': <function Agent.<lambda> at 0x000001D0F603A290>, '_state': <vmas.simulator.core.AgentState object at 0x000001D0F60580D0>, '_drag': None, '_linear_friction': None, '_angular_friction': None, '_gravity': None, '_goal': None, '_render': None, '_obs_range': None, '_obs_noise': None, '_f_range': None, '_max_f': None, '_t_range': None, '_max_t': None, '_action_script': None, '_sensors': [], '_c_noise': 0.0, '_silent': True, '_render_action': False, '_adversary': False, '_alpha': 0.5, 'dynamics': <vmas.simulator.dynamics.holonomic.Holonomic object at 0x000001D0F6058040>, 'action_size': 2, 'discrete_action_nvec': [3, 3], '_action': <vmas.simulator.core.Action object at 0x000001D0F60580A0>}\n",
      "\n",
      "{'_batch_dim': 2, '_device': device(type='cpu'), '_observers': [<vmas.simulator.joints.Joint object at 0x000001D0F60585B0>, <vmas.simulator.joints.Joint object at 0x000001D0F6058700>], '_name': 'agent_3', '_movable': True, '_rotatable': True, '_collide': True, '_density': 25.0, '_mass': 1.0, '_max_speed': None, '_v_range': None, '_color': <Color.BLUE: (0.25, 0.25, 0.75)>, '_shape': <vmas.simulator.core.Sphere object at 0x000001D0D70CCFA0>, '_is_joint': False, '_collision_filter': <function Agent.<lambda> at 0x000001D0F603A290>, '_state': <vmas.simulator.core.AgentState object at 0x000001D0F6058220>, '_drag': None, '_linear_friction': None, '_angular_friction': None, '_gravity': None, '_goal': None, '_render': None, '_obs_range': None, '_obs_noise': None, '_f_range': None, '_max_f': None, '_t_range': None, '_max_t': None, '_action_script': None, '_sensors': [], '_c_noise': 0.0, '_silent': True, '_render_action': False, '_adversary': False, '_alpha': 0.5, 'dynamics': <vmas.simulator.dynamics.holonomic.Holonomic object at 0x000001D0F6058190>, 'action_size': 2, 'discrete_action_nvec': [3, 3], '_action': <vmas.simulator.core.Action object at 0x000001D0F60581F0>}\n",
      "\n",
      "{'_batch_dim': 2, '_device': device(type='cpu'), '_observers': [<vmas.simulator.joints.Joint object at 0x000001D0F6058700>, <vmas.simulator.joints.Joint object at 0x000001D0F6058910>], '_name': 'agent_4', '_movable': True, '_rotatable': True, '_collide': True, '_density': 25.0, '_mass': 1.0, '_max_speed': None, '_v_range': None, '_color': <Color.BLUE: (0.25, 0.25, 0.75)>, '_shape': <vmas.simulator.core.Sphere object at 0x000001D0F6058100>, '_is_joint': False, '_collision_filter': <function Agent.<lambda> at 0x000001D0F603A290>, '_state': <vmas.simulator.core.AgentState object at 0x000001D0F6058370>, '_drag': None, '_linear_friction': None, '_angular_friction': None, '_gravity': None, '_goal': None, '_render': None, '_obs_range': None, '_obs_noise': None, '_f_range': None, '_max_f': None, '_t_range': None, '_max_t': None, '_action_script': None, '_sensors': [], '_c_noise': 0.0, '_silent': True, '_render_action': False, '_adversary': False, '_alpha': 0.5, 'dynamics': <vmas.simulator.dynamics.holonomic.Holonomic object at 0x000001D0F60582E0>, 'action_size': 2, 'discrete_action_nvec': [3, 3], '_action': <vmas.simulator.core.Action object at 0x000001D0F6058340>}\n",
      "\n"
     ]
    }
   ],
   "source": [
    "for agent in env.agents:\n",
    "    print(vars(agent))\n",
    "    print()"
   ]
  },
  {
   "cell_type": "markdown",
   "metadata": {},
   "source": [
    "## Create a Scenario"
   ]
  },
  {
   "cell_type": "code",
   "execution_count": null,
   "metadata": {},
   "outputs": [],
   "source": [
    "from vmas.simulator.scenario import BaseScenario\n",
    "\n",
    "class MyScenario(BaseScenario):\n",
    "\n",
    "    def make_world(self, batch_dim, device, **kwargs):\n",
    "        raise NotImplementedError()\n",
    "\n",
    "    def reset_world_at(self, env_index):\n",
    "        raise NotImplementedError()\n",
    "\n",
    "    def observation(self, agent):\n",
    "        raise NotImplementedError()\n",
    "\n",
    "    def reward(self, agent):\n",
    "        raise NotImplementedError()"
   ]
  },
  {
   "cell_type": "code",
   "execution_count": null,
   "metadata": {},
   "outputs": [
    {
     "data": {
      "text/plain": [
       "{'_world': None,\n",
       " 'viewer_size': (700, 700),\n",
       " 'viewer_zoom': 1.2,\n",
       " 'render_origin': (0.0, 0.0),\n",
       " 'plot_grid': False,\n",
       " 'grid_spacing': 0.1,\n",
       " 'visualize_semidims': True}"
      ]
     },
     "execution_count": 15,
     "metadata": {},
     "output_type": "execute_result"
    }
   ],
   "source": [
    "myScenario = MyScenario()\n",
    "vars(myScenario)"
   ]
  }
 ],
 "metadata": {
  "kernelspec": {
   "display_name": "Python 3",
   "language": "python",
   "name": "python3"
  },
  "language_info": {
   "codemirror_mode": {
    "name": "ipython",
    "version": 3
   },
   "file_extension": ".py",
   "mimetype": "text/x-python",
   "name": "python",
   "nbconvert_exporter": "python",
   "pygments_lexer": "ipython3",
   "version": "3.10.7"
  }
 },
 "nbformat": 4,
 "nbformat_minor": 2
}
